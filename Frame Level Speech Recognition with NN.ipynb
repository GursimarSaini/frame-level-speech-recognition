{
  "nbformat": 4,
  "nbformat_minor": 0,
  "metadata": {
    "colab": {
      "name": "Discussion.ipynb",
      "provenance": [],
      "collapsed_sections": [],
      "toc_visible": true
    },
    "kernelspec": {
      "display_name": "Python 3",
      "name": "python3"
    },
    "accelerator": "GPU"
  },
  "cells": [
    {
      "cell_type": "code",
      "metadata": {
        "colab": {
          "base_uri": "https://localhost:8080/"
        },
        "id": "DEK4urXEEUf5",
        "outputId": "24469fae-02e2-4b3d-946b-eb06be624529"
      },
      "source": [
        "!ls drive/MyDrive/Speech\\ Recognition\\ Data"
      ],
      "execution_count": null,
      "outputs": [
        {
          "output_type": "stream",
          "text": [
            "dev_labels.npy\tdev.npy\n"
          ],
          "name": "stdout"
        }
      ]
    },
    {
      "cell_type": "code",
      "metadata": {
        "id": "GX3zw5ZnE-v-"
      },
      "source": [
        "import numpy as np\n",
        "import matplotlib.pyplot as plt"
      ],
      "execution_count": null,
      "outputs": []
    },
    {
      "cell_type": "code",
      "metadata": {
        "id": "jxzX6zKiFJZQ"
      },
      "source": [
        "dev = np.load('drive/MyDrive/Speech Recognition Data/dev.npy', encoding='bytes', allow_pickle=True)\n",
        "dev_labels = np.load('drive/MyDrive/Speech Recognition Data/dev_labels.npy', encoding='bytes', allow_pickle=True)"
      ],
      "execution_count": null,
      "outputs": []
    },
    {
      "cell_type": "code",
      "metadata": {
        "id": "umiqxwR86hrH"
      },
      "source": [
        "total_frames = 0\n",
        "for i in dev:\n",
        "    total_frames += i.shape[0]\n"
      ],
      "execution_count": null,
      "outputs": []
    },
    {
      "cell_type": "code",
      "metadata": {
        "id": "LS88pap876Ou"
      },
      "source": [
        "X = np.empty((total_frames, 40))\n",
        "Y = np.empty((total_frames,), dtype=int)"
      ],
      "execution_count": null,
      "outputs": []
    },
    {
      "cell_type": "code",
      "metadata": {
        "id": "DWvU5u5_8DwI"
      },
      "source": [
        "idx = 0\n",
        "for i in range(dev.shape[0]):\n",
        "    rec = dev[i]\n",
        "    X[idx:idx+rec.shape[0], :rec.shape[1]] = rec\n",
        "    Y[idx:idx+rec.shape[0]] = dev_labels[i]\n",
        "    idx += rec.shape[0]"
      ],
      "execution_count": null,
      "outputs": []
    },
    {
      "cell_type": "code",
      "metadata": {
        "id": "vfQ8w6oYCA_9"
      },
      "source": [
        "# Ref: https://stackoverflow.com/questions/38592324/one-hot-encoding-using-numpy/42874726\n",
        "def get_one_hot(arr):\n",
        "    num_classes=138\n",
        "    res = np.eye(num_classes)[arr.reshape(-1)]\n",
        "    return res.reshape(list(arr.shape)+[num_classes])"
      ],
      "execution_count": null,
      "outputs": []
    },
    {
      "cell_type": "code",
      "metadata": {
        "id": "G77uEsNAEfM1"
      },
      "source": [
        "Y = get_one_hot(Y)"
      ],
      "execution_count": null,
      "outputs": []
    },
    {
      "cell_type": "code",
      "metadata": {
        "id": "h4lKtIwV80wV"
      },
      "source": [
        "from sklearn.model_selection import train_test_split"
      ],
      "execution_count": null,
      "outputs": []
    },
    {
      "cell_type": "code",
      "metadata": {
        "id": "9RlppJC49kpT"
      },
      "source": [
        "X_train, X_test, Y_train, Y_test = train_test_split(X,Y)"
      ],
      "execution_count": null,
      "outputs": []
    },
    {
      "cell_type": "code",
      "metadata": {
        "id": "a1ly2RuN9s9w"
      },
      "source": [
        "from tensorflow.keras.layers import Dense, Input, BatchNormalization\n",
        "from tensorflow.keras.optimizers import Adam\n",
        "from tensorflow.keras.utils import plot_model\n",
        "from tensorflow.keras import Model"
      ],
      "execution_count": null,
      "outputs": []
    },
    {
      "cell_type": "code",
      "metadata": {
        "id": "03EHvsZF-KIo"
      },
      "source": [
        "def speech_model():\n",
        "    inp = Input(shape=(40,))\n",
        "    x = Dense(128, activation='relu')(inp)\n",
        "    # x = Dense(512, activation='relu')(x)\n",
        "    out = Dense(138, activation='softmax')(x)\n",
        "    model = Model(inputs=inp, outputs=out, name='Speech_Simple')\n",
        "    opt = Adam()\n",
        "    model.compile(optimizer=opt, loss='categorical_crossentropy')\n",
        "    return model"
      ],
      "execution_count": null,
      "outputs": []
    },
    {
      "cell_type": "code",
      "metadata": {
        "id": "ZBXBCHko_SMn"
      },
      "source": [
        "test_model = speech_model()"
      ],
      "execution_count": null,
      "outputs": []
    },
    {
      "cell_type": "code",
      "metadata": {
        "colab": {
          "base_uri": "https://localhost:8080/",
          "height": 312
        },
        "id": "M0Zh1nWgYQLA",
        "outputId": "fd894910-02b8-441f-8dc4-98f93c3ed3da"
      },
      "source": [
        "plot_model(test_model, show_shapes=True)"
      ],
      "execution_count": null,
      "outputs": [
        {
          "output_type": "execute_result",
          "data": {
            "image/png": "[encoded data removed]",
            "text/plain": [
              "<IPython.core.display.Image object>"
            ]
          },
          "metadata": {
            "tags": []
          },
          "execution_count": 17
        }
      ]
    },
    {
      "cell_type": "code",
      "metadata": {
        "colab": {
          "base_uri": "https://localhost:8080/"
        },
        "id": "F3mJHdFz_ybp",
        "outputId": "ba3707bb-199f-47d0-a334-e500bda9621b"
      },
      "source": [
        "hist = test_model.fit(x=X_train, y=Y_train, epochs=20, validation_split=0.3)"
      ],
      "execution_count": null,
      "outputs": [
        {
          "output_type": "stream",
          "text": [
            "Epoch 1/20\n",
            "10981/10981 [==============================] - 15s 1ms/step - loss: 3.3122 - val_loss: 3.0793\n",
            "Epoch 2/20\n",
            "10981/10981 [==============================] - 16s 1ms/step - loss: 3.0229 - val_loss: 2.9920\n",
            "Epoch 3/20\n",
            "10981/10981 [==============================] - 15s 1ms/step - loss: 2.9735 - val_loss: 2.9454\n",
            "Epoch 4/20\n",
            "10981/10981 [==============================] - 15s 1ms/step - loss: 2.9498 - val_loss: 2.9621\n",
            "Epoch 5/20\n",
            "10981/10981 [==============================] - 15s 1ms/step - loss: 2.9347 - val_loss: 2.9721\n",
            "Epoch 6/20\n",
            "10981/10981 [==============================] - 15s 1ms/step - loss: 2.9244 - val_loss: 2.9492\n",
            "Epoch 7/20\n",
            "10981/10981 [==============================] - 15s 1ms/step - loss: 2.9154 - val_loss: 2.9305\n",
            "Epoch 8/20\n",
            "10981/10981 [==============================] - 14s 1ms/step - loss: 2.9085 - val_loss: 2.9472\n",
            "Epoch 9/20\n",
            "10981/10981 [==============================] - 15s 1ms/step - loss: 2.9054 - val_loss: 2.9088\n",
            "Epoch 10/20\n",
            "10981/10981 [==============================] - 15s 1ms/step - loss: 2.9018 - val_loss: 2.9158\n",
            "Epoch 11/20\n",
            "10981/10981 [==============================] - 15s 1ms/step - loss: 2.8983 - val_loss: 2.9212\n",
            "Epoch 12/20\n",
            "10981/10981 [==============================] - 15s 1ms/step - loss: 2.8963 - val_loss: 2.9217\n",
            "Epoch 13/20\n",
            "10981/10981 [==============================] - 15s 1ms/step - loss: 2.8936 - val_loss: 2.8954\n",
            "Epoch 14/20\n",
            "10981/10981 [==============================] - 15s 1ms/step - loss: 2.8927 - val_loss: 2.9407\n",
            "Epoch 15/20\n",
            "10981/10981 [==============================] - 15s 1ms/step - loss: 2.8920 - val_loss: 2.9065\n",
            "Epoch 16/20\n",
            "10981/10981 [==============================] - 15s 1ms/step - loss: 2.8906 - val_loss: 2.9133\n",
            "Epoch 17/20\n",
            "10981/10981 [==============================] - 15s 1ms/step - loss: 2.8892 - val_loss: 2.9039\n",
            "Epoch 18/20\n",
            "10981/10981 [==============================] - 15s 1ms/step - loss: 2.8876 - val_loss: 2.9227\n",
            "Epoch 19/20\n",
            "10981/10981 [==============================] - 15s 1ms/step - loss: 2.8892 - val_loss: 2.9377\n",
            "Epoch 20/20\n",
            "10981/10981 [==============================] - 15s 1ms/step - loss: 2.8880 - val_loss: 2.9168\n"
          ],
          "name": "stdout"
        }
      ]
    },
    {
      "cell_type": "code",
      "metadata": {
        "id": "lLjifZV0BSou"
      },
      "source": [
        "Y_pred = test_model.predict(X_test)"
      ],
      "execution_count": null,
      "outputs": []
    },
    {
      "cell_type": "code",
      "metadata": {
        "id": "PFUdlfPqJgwN"
      },
      "source": [
        "y_hat = np.argmax(Y_pred, axis=1)\n",
        "y_true = np.argmax(Y_test, axis=1)"
      ],
      "execution_count": null,
      "outputs": []
    },
    {
      "cell_type": "code",
      "metadata": {
        "id": "40lxKl1nJltc"
      },
      "source": [
        "from sklearn.metrics import f1_score, accuracy_score"
      ],
      "execution_count": null,
      "outputs": []
    },
    {
      "cell_type": "code",
      "metadata": {
        "colab": {
          "base_uri": "https://localhost:8080/"
        },
        "id": "O9CM5W67J41O",
        "outputId": "9ef3fb7c-7eff-40b1-bf4c-60994826c898"
      },
      "source": [
        "f1_score(y_true, y_hat, average='micro')"
      ],
      "execution_count": null,
      "outputs": [
        {
          "output_type": "execute_result",
          "data": {
            "text/plain": [
              "0.2653056345772274"
            ]
          },
          "metadata": {
            "tags": []
          },
          "execution_count": 22
        }
      ]
    },
    {
      "cell_type": "markdown",
      "metadata": {
        "id": "qjTWs_NdMmk9"
      },
      "source": [
        "# Tesing other models"
      ]
    },
    {
      "cell_type": "code",
      "metadata": {
        "id": "5xiMmD7JzgPX"
      },
      "source": [
        "X_train, X_test, Y_train, Y_test = train_test_split(dev, dev_labels)"
      ],
      "execution_count": null,
      "outputs": []
    },
    {
      "cell_type": "code",
      "metadata": {
        "id": "SrtcJ-vx8Zz7"
      },
      "source": [
        "class DataProcessor(object):\n",
        "    def __init__(self, X, Y, context_size):\n",
        "        self.raw_X = X\n",
        "        self.raw_Y = Y\n",
        "        self.k = context_size\n",
        "        self.X = []\n",
        "        self.Y = []\n",
        "        self.idx = []\n",
        "    \n",
        "    def _add_context(self):\n",
        "        for i in range(len(self.raw_X)):\n",
        "            padded = np.pad(self.raw_X[i], ((self.k, self.k), (0,0)), 'constant', constant_values=0)\n",
        "            temp_idx = len(self.X) + self.k\n",
        "            self.X.extend(list(padded))\n",
        "            self.idx.extend(range(temp_idx, temp_idx+len(self.raw_X[i])))\n",
        "            self.Y.extend(list(self.raw_Y[i]))\n",
        "        self.X = np.array(self.X)\n",
        "        self.Y = np.array(self.Y)\n",
        "\n",
        "\n",
        "    def prepare_dataset(self):\n",
        "        self._add_context()\n",
        "        X = []\n",
        "        Y = []\n",
        "        for i in range(len(self.idx)):\n",
        "            cur_idx = self.idx[i]\n",
        "            cur_data = self.X[cur_idx-self.k : cur_idx+1+self.k].reshape(-1)\n",
        "            X.append(cur_data)\n",
        "            Y.append(self.Y[i])\n",
        "        Y = np.array(Y)\n",
        "        Y = self.one_hot_encode(Y)\n",
        "        return np.array(X), Y\n",
        "    \n",
        "    def one_hot_encode(self, Y):\n",
        "        num_classes=138\n",
        "        res = np.eye(num_classes)[Y.reshape(-1)]\n",
        "        return res.reshape(list(Y.shape)+[num_classes])"
      ],
      "execution_count": null,
      "outputs": []
    },
    {
      "cell_type": "code",
      "metadata": {
        "id": "Tg1gYlNlXG5h"
      },
      "source": [
        "train_processor = DataProcessor(X_train, Y_train, 10)\n",
        "X_train, Y_train = train_processor.prepare_dataset()\n",
        "test_processor = DataProcessor(X_test, Y_test, 10)\n",
        "X_test, Y_test = test_processor.prepare_dataset()"
      ],
      "execution_count": null,
      "outputs": []
    },
    {
      "cell_type": "code",
      "metadata": {
        "colab": {
          "base_uri": "https://localhost:8080/"
        },
        "id": "wwXffOFMbR6l",
        "outputId": "6df4b3d2-c99d-4ae3-c5aa-c25ca74f059c"
      },
      "source": [
        "print(Y_train.shape)\n",
        "X_train.shape"
      ],
      "execution_count": null,
      "outputs": [
        {
          "output_type": "stream",
          "text": [
            "(500625, 138)\n"
          ],
          "name": "stdout"
        },
        {
          "output_type": "execute_result",
          "data": {
            "text/plain": [
              "(500625, 840)"
            ]
          },
          "metadata": {
            "tags": []
          },
          "execution_count": 8
        }
      ]
    },
    {
      "cell_type": "code",
      "metadata": {
        "id": "J-_NKCee0V5V"
      },
      "source": [
        "class Classifier(object):\n",
        "    def __init__(self, context_size, frame_size, X_train, Y_train):\n",
        "        self.k = context_size\n",
        "        self.frame_dim = frame_size\n",
        "        self.X_train = X_train\n",
        "        self.Y_train = Y_train\n",
        "        self.model = self._create_model()\n",
        "\n",
        "    \n",
        "    def _create_model(self):\n",
        "        # One frame of training. 2k frames in context\n",
        "        inp = Input(shape=((2*self.k)+1) * 40)\n",
        "        l1 = Dense(1024, 'relu')(inp)\n",
        "        b1 = BatchNormalization()(l1)\n",
        "        l2 = Dense(1024, 'relu')(b1)\n",
        "        b2 = BatchNormalization()(l2)\n",
        "        l3 = Dense(2048, 'relu')(b2)\n",
        "        b3 = BatchNormalization()(l3)\n",
        "        l4 = Dense(2048, 'relu')(b3)\n",
        "        b4 = BatchNormalization()(l4)\n",
        "        l5 = Dense(1024, 'relu')(b4)\n",
        "        b5 = BatchNormalization()(l5)\n",
        "        l6 = Dense(1024, 'relu')(b5)\n",
        "        b6 = BatchNormalization()(l6)\n",
        "        l7 = Dense(512, 'relu')(b6)\n",
        "        b7 = BatchNormalization()(l7)\n",
        "        l8 = Dense(512, 'relu')(b7)\n",
        "        b8 = BatchNormalization()(l8)\n",
        "        out = Dense(138, 'relu')(b8)\n",
        "\n",
        "        model = Model(inputs=inp, outputs=out)\n",
        "        opt = Adam()\n",
        "        model.compile(optimizer=opt, loss='categorical_crossentropy')\n",
        "        return model\n",
        "    \n",
        "\n",
        "    def train(self, epochs):\n",
        "        hist = self.model.fit(x=self.X_train, y=self.Y_train, epochs=epochs, validation_split=0.3)#, batch_size=len(self.X_train)//2)\n",
        "        return hist\n",
        "    \n",
        "    def test(self, X_test, Y_test):\n",
        "        Y_pred = self.model.predict(X_test)\n",
        "        y_hat = np.argmax(Y_pred, axis=1)\n",
        "        y_true = np.argmax(Y_test, axis=1)\n",
        "        return f1_score(y_true, y_hat, average='micro')"
      ],
      "execution_count": null,
      "outputs": []
    },
    {
      "cell_type": "code",
      "metadata": {
        "id": "ktyR8kY3BeXr"
      },
      "source": [
        "cl = Classifier(10, 40, X_train, Y_train)"
      ],
      "execution_count": null,
      "outputs": []
    },
    {
      "cell_type": "code",
      "metadata": {
        "colab": {
          "base_uri": "https://localhost:8080/"
        },
        "id": "MU9tt_rHBofn",
        "outputId": "2bc0857e-2d9f-412e-835a-4f00b04330e9"
      },
      "source": [
        "hist = cl.train(20)"
      ],
      "execution_count": null,
      "outputs": [
        {
          "output_type": "stream",
          "text": [
            "Epoch 1/20\n",
            "10952/10952 [==============================] - 97s 9ms/step - loss: 4.9401 - val_loss: 5.7227\n",
            "Epoch 2/20\n",
            "10952/10952 [==============================] - 96s 9ms/step - loss: 4.1622 - val_loss: 3.9063\n",
            "Epoch 3/20\n",
            "10952/10952 [==============================] - 96s 9ms/step - loss: 4.0474 - val_loss: 3.7835\n",
            "Epoch 4/20\n",
            "10952/10952 [==============================] - 95s 9ms/step - loss: 3.9853 - val_loss: 3.6902\n",
            "Epoch 5/20\n",
            "10952/10952 [==============================] - 95s 9ms/step - loss: 3.8947 - val_loss: 3.5960\n",
            "Epoch 6/20\n",
            "10952/10952 [==============================] - 96s 9ms/step - loss: 3.8518 - val_loss: 3.6006\n",
            "Epoch 7/20\n",
            "10952/10952 [==============================] - 96s 9ms/step - loss: 3.8532 - val_loss: 3.5747\n",
            "Epoch 8/20\n",
            "10952/10952 [==============================] - 95s 9ms/step - loss: 3.8091 - val_loss: 3.4627\n",
            "Epoch 9/20\n",
            "10952/10952 [==============================] - 95s 9ms/step - loss: 3.7367 - val_loss: 3.4231\n",
            "Epoch 10/20\n",
            "10952/10952 [==============================] - 96s 9ms/step - loss: 3.7430 - val_loss: 3.4512\n",
            "Epoch 11/20\n",
            "10952/10952 [==============================] - 96s 9ms/step - loss: 3.7743 - val_loss: 3.4413\n",
            "Epoch 12/20\n",
            "10952/10952 [==============================] - 96s 9ms/step - loss: 3.7094 - val_loss: 3.3840\n",
            "Epoch 13/20\n",
            "10952/10952 [==============================] - 95s 9ms/step - loss: 3.6815 - val_loss: 3.4237\n",
            "Epoch 14/20\n",
            "10952/10952 [==============================] - 97s 9ms/step - loss: 3.6829 - val_loss: 3.4104\n",
            "Epoch 15/20\n",
            "10952/10952 [==============================] - 97s 9ms/step - loss: 3.6569 - val_loss: 3.3784\n",
            "Epoch 16/20\n",
            "10952/10952 [==============================] - 98s 9ms/step - loss: 3.6497 - val_loss: 3.3270\n",
            "Epoch 17/20\n",
            "10952/10952 [==============================] - 96s 9ms/step - loss: 3.6411 - val_loss: 3.3230\n",
            "Epoch 18/20\n",
            "10952/10952 [==============================] - 95s 9ms/step - loss: 3.6053 - val_loss: 3.8397\n",
            "Epoch 19/20\n",
            "10952/10952 [==============================] - 97s 9ms/step - loss: 3.5997 - val_loss: 3.3116\n",
            "Epoch 20/20\n",
            "10952/10952 [==============================] - 96s 9ms/step - loss: 3.5891 - val_loss: 3.3471\n"
          ],
          "name": "stdout"
        }
      ]
    },
    {
      "cell_type": "code",
      "metadata": {
        "colab": {
          "base_uri": "https://localhost:8080/"
        },
        "id": "K5nqGiMWHNdP",
        "outputId": "89bfdb31-f37a-44aa-f6ac-40b3a780c1d7"
      },
      "source": [
        "cl.test(X_test, Y_test)"
      ],
      "execution_count": null,
      "outputs": [
        {
          "output_type": "execute_result",
          "data": {
            "text/plain": [
              "0.22478345161232946"
            ]
          },
          "metadata": {
            "tags": []
          },
          "execution_count": 31
        }
      ]
    },
    {
      "cell_type": "code",
      "metadata": {
        "id": "jX_TcWGAabZL"
      },
      "source": [
        ""
      ],
      "execution_count": null,
      "outputs": []
    }
  ]
}